{
 "cells": [
  {
   "cell_type": "code",
   "execution_count": 113,
   "metadata": {},
   "outputs": [
    {
     "name": "stdout",
     "output_type": "stream",
     "text": [
      "Processing image #1\n",
      "Processing image #2\n",
      "Processing image #3\n",
      "Processing image #4\n",
      "Processing image #5\n",
      "Processing image #6\n",
      "Processing image #7\n",
      "Processing image #8\n",
      "Processing image #9\n",
      "Processing image #10\n",
      "All done\n"
     ]
    }
   ],
   "source": [
    "from pynq.overlays.base import BaseOverlay\n",
    "from pynq.lib.video import *\n",
    "import cv2\n",
    "import numpy as np\n",
    "import time\n",
    "import os\n",
    "\n",
    "base = BaseOverlay(\"base.bit\")\n",
    "\n",
    "# monitor configuration: 640*480 @ 60Hz\n",
    "Mode = VideoMode(640,480,24)\n",
    "hdmi_out = base.video.hdmi_out\n",
    "hdmi_out.configure(Mode,PIXEL_BGR)\n",
    "hdmi_out.start()\n",
    "\n",
    "os.chdir(\"../result/\")\n",
    "os.system(\"../bin/CapsuleCheck\")\n",
    "\n",
    "for i in range(1, 11):\n",
    "    print('Processing image #' + str(i))\n",
    "    img = cv2.imread('result(' + str(i) + ').jpg')\n",
    "    #print(img.shape)\n",
    "    img2 = cv2.resize(img, (640, 480))\n",
    "    out_img = np.zeros((480, 640, 3), np.uint8)\n",
    "    #print(out_img.shape)\n",
    "    out_img[:,:,0] = img2[:,:,1].copy()\n",
    "    out_img[:,:,1] = img2[:,:,2].copy()\n",
    "    out_img[:,:,2] = img2[:,:,0].copy()\n",
    "\n",
    "    #out_img[:,:,0] = 255\n",
    "    #out_img[:,:,1] = 0\n",
    "    #out_img[:,:,2] = 0\n",
    "    #print(out_img[0][0])\n",
    "\n",
    "    outframe = hdmi_out.newframe()\n",
    "    outframe[0:480,0:640,:] = out_img[0:480,0:640,:]\n",
    "    hdmi_out.writeframe(outframe)\n",
    "    \n",
    "    time.sleep(1)\n",
    "\n",
    "print(\"All done\")\n",
    " \n",
    "\n"
   ]
  },
  {
   "cell_type": "code",
   "execution_count": null,
   "metadata": {},
   "outputs": [],
   "source": []
  }
 ],
 "metadata": {
  "kernelspec": {
   "display_name": "Python 3",
   "language": "python",
   "name": "python3"
  },
  "language_info": {
   "codemirror_mode": {
    "name": "ipython",
    "version": 3
   },
   "file_extension": ".py",
   "mimetype": "text/x-python",
   "name": "python",
   "nbconvert_exporter": "python",
   "pygments_lexer": "ipython3",
   "version": "3.6.0"
  }
 },
 "nbformat": 4,
 "nbformat_minor": 2
}
